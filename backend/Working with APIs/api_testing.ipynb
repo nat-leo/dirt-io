{
 "cells": [
  {
   "cell_type": "markdown",
   "id": "06cfb0ce",
   "metadata": {},
   "source": [
    "# Intro to API Testing\n",
    "\n",
    "Why test? It's a prereq on evey job application and required by every set of production code ever. It's used to make sure services and programs not only do what is expected of them, but also to make sure the code is performant under stress. If that's not enough reason to, chances are, you're already doing it - just manually.\n",
    "\n",
    "## So let's build an automated testing suite for this Soil API.\n",
    "\n",
    "It starts with defining the services. Our client is a GUI (React as of Oct 28, 2025.) When a useer clicks on a part of the map, they want to access the soil data at that location. We're going to use [OpenAPI Specification (OAS)](https://spec.openapis.org/oas/latest.html), as well as an example or \n",
    "two to define what the client\n",
    "\n",
    "Using the [API Definitions](./defining_the_api.ipynb), it's time to come up with some testing.\n",
    "\n",
    "## GET soil?lat=number&lon=number\n",
    "\n",
    "This is what our backend does:\n",
    "1. Call the NRCS database\n",
    "  ```\n",
    "  curl -X POST \"https://sdmdataaccess.nrcs.usda.gov/Tabular/post.rest\" \\\n",
    "    -H \"Content-Type: application/x-www-form-urlencoded\" \\\n",
    "    -d \"query=SELECT mup.mupolygonkey, mup.mukey, mup.mupolygongeo\n",
    "  FROM mupolygon AS mup\n",
    "  WHERE mup.mukey IN (\n",
    "    SELECT mukey\n",
    "    FROM SDA_Get_Mukey_from_intersection_with_WktWgs84('POINT(-122.449871 37.492633)')\n",
    "  )\" \\\n",
    "    -d \"format=json\"\n",
    "  ```\n",
    "2. Filter out the soil data to get one polygon.\n",
    "\n",
    "So what test cases do we need to watch out for? There's a few types, but the most important are: Unit Testing, End-to-End testing, Load and Security testing, as well as Contract and Functional Testing.\n",
    "\n",
    "### Unit Testing\n",
    "Handling optional parameters correctly, returns appropriate errors, etc. We need to make sure that we've tested:\n",
    "  1. (Behavior) A single polygon is returned for the coordinate when successful.\n",
    "  2. (Error Handling) A 404 is sent when we call the api and no soil data is found.\n",
    "    - lat and lon is in range, but the NRCS returns {}\n",
    "  3. (Error Handling) A 400 is sent on invalid lat and lon\n",
    "    - lat [-90, 90] and lon [-180, 180] are not in that range (save the NRCS db call).\n",
    "    - lat and lon specified are not floats (save the NRCS db call)\n",
    "\n",
    "### Security Testing \n",
    "Some items we need to test for:\n",
    "  1. SQL Injection\n",
    "    - `lat` and `lon` must be sanitized before going into the SQL query. This can be caught be the unit tests, but make sure a cheeky `); DROP TABLE;` returns a 400 status code.\n",
    "\n",
    "### End-to-End testing\n",
    "E2E will be done on the frontend for v1, since we really only have one call currently.\n",
    "\n",
    "### Load Testing\n",
    "A benchmark for the web service on a **MOCK** NRCS Soil DB instance will be used to check how many concurrent users we can have for a single instance of our service.\n",
    "\n"
   ]
  },
  {
   "cell_type": "markdown",
   "id": "ffbc5afd",
   "metadata": {},
   "source": [
    "# References\n",
    "\n",
    "Postman, “What is API Testing? A Guide to Testing APIs,” Postman API Platform, 2025. [Online]. Available: https://www.postman.com/api-platform/api-testing/. [Accessed: Oct. 28, 2025].\n",
    "\n"
   ]
  }
 ],
 "metadata": {
  "language_info": {
   "name": "python"
  }
 },
 "nbformat": 4,
 "nbformat_minor": 5
}
